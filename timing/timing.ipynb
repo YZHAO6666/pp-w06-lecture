{
 "cells": [
  {
   "cell_type": "code",
   "execution_count": 1,
   "metadata": {},
   "outputs": [],
   "source": [
    "%load_ext line_profiler"
   ]
  },
  {
   "cell_type": "code",
   "execution_count": 6,
   "metadata": {},
   "outputs": [],
   "source": [
    "%lprun?"
   ]
  },
  {
   "cell_type": "code",
   "execution_count": 14,
   "metadata": {
    "scrolled": true
   },
   "outputs": [],
   "source": [
    "import numpy as np\n",
    "\n",
    "def bubble_sort(arr):\n",
    "    '''\n",
    "    Sorts the list or array arr using bubble sort.\n",
    "\n",
    "    Input: arr (list or array): the array to sort\n",
    "    Output: sorted_arr (list): a copy of arr, with elements sorted in order\n",
    "    '''\n",
    "    # Make a copy first\n",
    "    sorted_arr = arr.copy()\n",
    "    counter = 1\n",
    "    N = len(sorted_arr)\n",
    "\n",
    "    # Keep looping over the list until there are no more swaps\n",
    "    while True:\n",
    "        # Keep track of whether we've swapped anything this time\n",
    "        swapped = False\n",
    "\n",
    "        # Compare each consecutive pair of elements\n",
    "        for i in range(N-counter):\n",
    "            if sorted_arr[i] > sorted_arr[i+1]:\n",
    "                # Swap!\n",
    "#                 third_box = sorted_arr[i+1]\n",
    "#                 sorted_arr[i+1] = sorted_arr[i]\n",
    "#                 sorted_arr[i] = third_box\n",
    "                sorted_arr[i], sorted_arr[i+1] = sorted_arr[i+1], sorted_arr[i]\n",
    "                swapped = True\n",
    "\n",
    "        # The next largest element is now at the correct place, we don't need to check it anymore\n",
    "        counter += 1\n",
    "\n",
    "        # If at this point swapped is still False, we can finish\n",
    "        if not swapped:\n",
    "            return sorted_arr\n",
    "        \n",
    "\n",
    "# Set up a random list of integers\n",
    "n = 1000\n",
    "rng = np.random.default_rng(1)\n",
    "my_list = rng.integers(1, n+1, size=n)"
   ]
  },
  {
   "cell_type": "code",
   "execution_count": 15,
   "metadata": {},
   "outputs": [],
   "source": [
    "# Profile the function bubble_sort\n",
    "%lprun -f bubble_sort bubble_sort(my_list)"
   ]
  },
  {
   "cell_type": "code",
   "execution_count": null,
   "metadata": {},
   "outputs": [],
   "source": []
  },
  {
   "cell_type": "code",
   "execution_count": null,
   "metadata": {},
   "outputs": [],
   "source": []
  },
  {
   "cell_type": "code",
   "execution_count": null,
   "metadata": {},
   "outputs": [],
   "source": []
  },
  {
   "cell_type": "code",
   "execution_count": null,
   "metadata": {},
   "outputs": [],
   "source": []
  },
  {
   "cell_type": "code",
   "execution_count": null,
   "metadata": {},
   "outputs": [],
   "source": []
  }
 ],
 "metadata": {
  "kernelspec": {
   "display_name": "Python 3",
   "language": "python",
   "name": "python3"
  },
  "language_info": {
   "codemirror_mode": {
    "name": "ipython",
    "version": 3
   },
   "file_extension": ".py",
   "mimetype": "text/x-python",
   "name": "python",
   "nbconvert_exporter": "python",
   "pygments_lexer": "ipython3",
   "version": "3.7.6"
  }
 },
 "nbformat": 4,
 "nbformat_minor": 4
}
